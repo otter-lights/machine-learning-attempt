{
 "cells": [
  {
   "cell_type": "code",
   "execution_count": 2,
   "metadata": {},
   "outputs": [],
   "source": [
    "import pandas as pd  \n",
    "import numpy as np\n",
    "from sklearn.model_selection import train_test_split\n",
    "from sklearn.linear_model import LinearRegression\n",
    "from sklearn import metrics\n",
    "import matplotlib.pyplot as plt"
   ]
  },
  {
   "cell_type": "code",
   "execution_count": 3,
   "metadata": {},
   "outputs": [
    {
     "data": {
      "text/plain": [
       "(32370, 22)"
      ]
     },
     "execution_count": 3,
     "metadata": {},
     "output_type": "execute_result"
    }
   ],
   "source": [
    "mort_df=pd.read_csv('C://Users//Rachel//Downloads//example.csv') # Read csv file into a useable dataframe\n",
    "mort_df.shape                          # Display shape of array to see how many rows and columns are in the dataframe"
   ]
  },
  {
   "cell_type": "code",
   "execution_count": 4,
   "metadata": {},
   "outputs": [
    {
     "data": {
      "text/html": [
       "<div>\n",
       "<style scoped>\n",
       "    .dataframe tbody tr th:only-of-type {\n",
       "        vertical-align: middle;\n",
       "    }\n",
       "\n",
       "    .dataframe tbody tr th {\n",
       "        vertical-align: top;\n",
       "    }\n",
       "\n",
       "    .dataframe thead th {\n",
       "        text-align: right;\n",
       "    }\n",
       "</style>\n",
       "<table border=\"1\" class=\"dataframe\">\n",
       "  <thead>\n",
       "    <tr style=\"text-align: right;\">\n",
       "      <th></th>\n",
       "      <th>Dataflow</th>\n",
       "      <th>Geographic Area</th>\n",
       "      <th>Indicator</th>\n",
       "      <th>Sex</th>\n",
       "      <th>Time Period</th>\n",
       "      <th>Observation Value</th>\n",
       "      <th>Unit Multiplier</th>\n",
       "      <th>Unit of Measure</th>\n",
       "      <th>Observation Status</th>\n",
       "      <th>Observation Confidentaility</th>\n",
       "      <th>...</th>\n",
       "      <th>Weighted Sample Size</th>\n",
       "      <th>Observation Footnote</th>\n",
       "      <th>Series Footnote</th>\n",
       "      <th>Data Source</th>\n",
       "      <th>Citation of or link to the data source</th>\n",
       "      <th>Custodian</th>\n",
       "      <th>Time period activity related to when the data are collected</th>\n",
       "      <th>Reference Period</th>\n",
       "      <th>The period of time for which data are provided</th>\n",
       "      <th>Current Age</th>\n",
       "    </tr>\n",
       "  </thead>\n",
       "  <tbody>\n",
       "    <tr>\n",
       "      <td>0</td>\n",
       "      <td>Cross-sector Indicators</td>\n",
       "      <td>Middle East</td>\n",
       "      <td>Infant mortality rate</td>\n",
       "      <td>Female</td>\n",
       "      <td>1962-06</td>\n",
       "      <td>221.063578</td>\n",
       "      <td>NaN</td>\n",
       "      <td>Deaths per 1000 live births</td>\n",
       "      <td>Normal value</td>\n",
       "      <td>NaN</td>\n",
       "      <td>...</td>\n",
       "      <td>NaN</td>\n",
       "      <td>NaN</td>\n",
       "      <td>NaN</td>\n",
       "      <td>NaN</td>\n",
       "      <td>NaN</td>\n",
       "      <td>NaN</td>\n",
       "      <td>NaN</td>\n",
       "      <td>NaN</td>\n",
       "      <td>NaN</td>\n",
       "      <td>Total</td>\n",
       "    </tr>\n",
       "    <tr>\n",
       "      <td>1</td>\n",
       "      <td>Cross-sector Indicators</td>\n",
       "      <td>Middle East</td>\n",
       "      <td>Infant mortality rate</td>\n",
       "      <td>Female</td>\n",
       "      <td>1963-06</td>\n",
       "      <td>217.464131</td>\n",
       "      <td>NaN</td>\n",
       "      <td>Deaths per 1000 live births</td>\n",
       "      <td>Normal value</td>\n",
       "      <td>NaN</td>\n",
       "      <td>...</td>\n",
       "      <td>NaN</td>\n",
       "      <td>NaN</td>\n",
       "      <td>NaN</td>\n",
       "      <td>NaN</td>\n",
       "      <td>NaN</td>\n",
       "      <td>NaN</td>\n",
       "      <td>NaN</td>\n",
       "      <td>NaN</td>\n",
       "      <td>NaN</td>\n",
       "      <td>Total</td>\n",
       "    </tr>\n",
       "    <tr>\n",
       "      <td>2</td>\n",
       "      <td>Cross-sector Indicators</td>\n",
       "      <td>Middle East</td>\n",
       "      <td>Infant mortality rate</td>\n",
       "      <td>Female</td>\n",
       "      <td>1964-06</td>\n",
       "      <td>213.923579</td>\n",
       "      <td>NaN</td>\n",
       "      <td>Deaths per 1000 live births</td>\n",
       "      <td>Normal value</td>\n",
       "      <td>NaN</td>\n",
       "      <td>...</td>\n",
       "      <td>NaN</td>\n",
       "      <td>NaN</td>\n",
       "      <td>NaN</td>\n",
       "      <td>NaN</td>\n",
       "      <td>NaN</td>\n",
       "      <td>NaN</td>\n",
       "      <td>NaN</td>\n",
       "      <td>NaN</td>\n",
       "      <td>NaN</td>\n",
       "      <td>Total</td>\n",
       "    </tr>\n",
       "    <tr>\n",
       "      <td>3</td>\n",
       "      <td>Cross-sector Indicators</td>\n",
       "      <td>Middle East</td>\n",
       "      <td>Infant mortality rate</td>\n",
       "      <td>Female</td>\n",
       "      <td>1965-06</td>\n",
       "      <td>210.421883</td>\n",
       "      <td>NaN</td>\n",
       "      <td>Deaths per 1000 live births</td>\n",
       "      <td>Normal value</td>\n",
       "      <td>NaN</td>\n",
       "      <td>...</td>\n",
       "      <td>NaN</td>\n",
       "      <td>NaN</td>\n",
       "      <td>NaN</td>\n",
       "      <td>NaN</td>\n",
       "      <td>NaN</td>\n",
       "      <td>NaN</td>\n",
       "      <td>NaN</td>\n",
       "      <td>NaN</td>\n",
       "      <td>NaN</td>\n",
       "      <td>Total</td>\n",
       "    </tr>\n",
       "    <tr>\n",
       "      <td>4</td>\n",
       "      <td>Cross-sector Indicators</td>\n",
       "      <td>Middle East</td>\n",
       "      <td>Infant mortality rate</td>\n",
       "      <td>Female</td>\n",
       "      <td>1966-06</td>\n",
       "      <td>206.965458</td>\n",
       "      <td>NaN</td>\n",
       "      <td>Deaths per 1000 live births</td>\n",
       "      <td>Normal value</td>\n",
       "      <td>NaN</td>\n",
       "      <td>...</td>\n",
       "      <td>NaN</td>\n",
       "      <td>NaN</td>\n",
       "      <td>NaN</td>\n",
       "      <td>NaN</td>\n",
       "      <td>NaN</td>\n",
       "      <td>NaN</td>\n",
       "      <td>NaN</td>\n",
       "      <td>NaN</td>\n",
       "      <td>NaN</td>\n",
       "      <td>Total</td>\n",
       "    </tr>\n",
       "  </tbody>\n",
       "</table>\n",
       "<p>5 rows × 22 columns</p>\n",
       "</div>"
      ],
      "text/plain": [
       "                  Dataflow Geographic Area              Indicator     Sex  \\\n",
       "0  Cross-sector Indicators     Middle East  Infant mortality rate  Female   \n",
       "1  Cross-sector Indicators     Middle East  Infant mortality rate  Female   \n",
       "2  Cross-sector Indicators     Middle East  Infant mortality rate  Female   \n",
       "3  Cross-sector Indicators     Middle East  Infant mortality rate  Female   \n",
       "4  Cross-sector Indicators     Middle East  Infant mortality rate  Female   \n",
       "\n",
       "  Time Period  Observation Value  Unit Multiplier  \\\n",
       "0     1962-06         221.063578              NaN   \n",
       "1     1963-06         217.464131              NaN   \n",
       "2     1964-06         213.923579              NaN   \n",
       "3     1965-06         210.421883              NaN   \n",
       "4     1966-06         206.965458              NaN   \n",
       "\n",
       "               Unit of Measure Observation Status  \\\n",
       "0  Deaths per 1000 live births       Normal value   \n",
       "1  Deaths per 1000 live births       Normal value   \n",
       "2  Deaths per 1000 live births       Normal value   \n",
       "3  Deaths per 1000 live births       Normal value   \n",
       "4  Deaths per 1000 live births       Normal value   \n",
       "\n",
       "   Observation Confidentaility  ...  Weighted Sample Size  \\\n",
       "0                          NaN  ...                   NaN   \n",
       "1                          NaN  ...                   NaN   \n",
       "2                          NaN  ...                   NaN   \n",
       "3                          NaN  ...                   NaN   \n",
       "4                          NaN  ...                   NaN   \n",
       "\n",
       "   Observation Footnote  Series Footnote  Data Source  \\\n",
       "0                   NaN              NaN          NaN   \n",
       "1                   NaN              NaN          NaN   \n",
       "2                   NaN              NaN          NaN   \n",
       "3                   NaN              NaN          NaN   \n",
       "4                   NaN              NaN          NaN   \n",
       "\n",
       "   Citation of or link to the data source  Custodian  \\\n",
       "0                                     NaN        NaN   \n",
       "1                                     NaN        NaN   \n",
       "2                                     NaN        NaN   \n",
       "3                                     NaN        NaN   \n",
       "4                                     NaN        NaN   \n",
       "\n",
       "   Time period activity related to when the data are collected  \\\n",
       "0                                                NaN             \n",
       "1                                                NaN             \n",
       "2                                                NaN             \n",
       "3                                                NaN             \n",
       "4                                                NaN             \n",
       "\n",
       "   Reference Period  The period of time for which data are provided  \\\n",
       "0               NaN                                             NaN   \n",
       "1               NaN                                             NaN   \n",
       "2               NaN                                             NaN   \n",
       "3               NaN                                             NaN   \n",
       "4               NaN                                             NaN   \n",
       "\n",
       "   Current Age  \n",
       "0        Total  \n",
       "1        Total  \n",
       "2        Total  \n",
       "3        Total  \n",
       "4        Total  \n",
       "\n",
       "[5 rows x 22 columns]"
      ]
     },
     "execution_count": 4,
     "metadata": {},
     "output_type": "execute_result"
    }
   ],
   "source": [
    "mort_df.head()"
   ]
  },
  {
   "cell_type": "code",
   "execution_count": 5,
   "metadata": {},
   "outputs": [
    {
     "data": {
      "text/plain": [
       "Dataflow                                                        object\n",
       "Geographic Area                                                 object\n",
       "Indicator                                                       object\n",
       "Sex                                                             object\n",
       "Time Period                                                     object\n",
       "Observation Value                                              float64\n",
       "Unit Multiplier                                                float64\n",
       "Unit of Measure                                                 object\n",
       "Observation Status                                              object\n",
       "Observation Confidentaility                                    float64\n",
       "Lower Bound                                                    float64\n",
       "Upper Bound                                                    float64\n",
       "Weighted Sample Size                                           float64\n",
       "Observation Footnote                                           float64\n",
       "Series Footnote                                                float64\n",
       "Data Source                                                    float64\n",
       "Citation of or link to the data source                         float64\n",
       "Custodian                                                      float64\n",
       "Time period activity related to when the data are collected    float64\n",
       "Reference Period                                               float64\n",
       "The period of time for which data are provided                 float64\n",
       "Current Age                                                     object\n",
       "dtype: object"
      ]
     },
     "execution_count": 5,
     "metadata": {},
     "output_type": "execute_result"
    }
   ],
   "source": [
    "mort_df.dtypes"
   ]
  },
  {
   "cell_type": "code",
   "execution_count": 6,
   "metadata": {},
   "outputs": [
    {
     "data": {
      "text/plain": [
       "(32370, 2)"
      ]
     },
     "execution_count": 6,
     "metadata": {},
     "output_type": "execute_result"
    }
   ],
   "source": [
    "min_mort_data_df = mort_df[['Geographic Area','Observation Value']]  # Create a new dataframe containing only the chosen data\n",
    "min_mort_data_df.shape                                  # Display the shape of the dataframe as a quick check to ensure \n",
    "                                                          # dataframe has expected number of columns and rows"
   ]
  },
  {
   "cell_type": "code",
   "execution_count": 7,
   "metadata": {},
   "outputs": [
    {
     "data": {
      "text/plain": [
       "(32370, 2)"
      ]
     },
     "execution_count": 7,
     "metadata": {},
     "output_type": "execute_result"
    }
   ],
   "source": [
    "no_missing_values_df = min_mort_data_df.dropna(axis=0,how='any')  # Use dropna to remove rows with NaN in any column\n",
    "no_missing_values_df.shape"
   ]
  },
  {
   "cell_type": "code",
   "execution_count": 8,
   "metadata": {},
   "outputs": [
    {
     "data": {
      "text/plain": [
       "Geographic Area\n",
       "Africa             8834\n",
       "Caribbean          1821\n",
       "Central America    1449\n",
       "East Asia           919\n",
       "East Europe        3972\n",
       "Middle East        3659\n",
       "North America       620\n",
       "Oceania            2672\n",
       "South America      2197\n",
       "South Asia         2821\n",
       "West Europe        3406\n",
       "Name: Observation Value, dtype: int64"
      ]
     },
     "execution_count": 8,
     "metadata": {},
     "output_type": "execute_result"
    }
   ],
   "source": [
    "#shows the number of data points for each geographic area\n",
    "no_missing_values_df.groupby('Geographic Area')['Observation Value'].count()"
   ]
  },
  {
   "cell_type": "code",
   "execution_count": 9,
   "metadata": {},
   "outputs": [
    {
     "data": {
      "text/plain": [
       "Text(0, 0.5, 'Number of Data Points')"
      ]
     },
     "execution_count": 9,
     "metadata": {},
     "output_type": "execute_result"
    },
    {
     "data": {
      "image/png": "[encoded data removed]",
      "text/plain": [
       "<Figure size 432x288 with 1 Axes>"
      ]
     },
     "metadata": {
      "needs_background": "light"
     },
     "output_type": "display_data"
    }
   ],
   "source": [
    "#graphs the data by the number of data points in each group\n",
    "ax = no_missing_values_df.groupby('Geographic Area')['Observation Value'].count().plot(kind='bar', title='Infant Mortality Data')\n",
    "ax.set_xlabel('Geographic Area')\n",
    "ax.set_ylabel('Number of Data Points')"
   ]
  },
  {
   "cell_type": "code",
   "execution_count": 10,
   "metadata": {},
   "outputs": [
    {
     "data": {
      "text/plain": [
       "Geographic Area\n",
       "Africa             94.624930\n",
       "Caribbean          39.552372\n",
       "Central America    48.652941\n",
       "East Asia          35.513962\n",
       "East Europe        24.017284\n",
       "Middle East        58.065998\n",
       "North America      28.136174\n",
       "Oceania            41.955015\n",
       "South America      49.708044\n",
       "South Asia         64.408614\n",
       "West Europe        11.684693\n",
       "Name: Observation Value, dtype: float64"
      ]
     },
     "execution_count": 10,
     "metadata": {},
     "output_type": "execute_result"
    }
   ],
   "source": [
    "#show the mean value for each geographic area (same as graph above)\n",
    "no_missing_values_df.groupby('Geographic Area')['Observation Value'].mean()"
   ]
  },
  {
   "cell_type": "code",
   "execution_count": 11,
   "metadata": {},
   "outputs": [
    {
     "data": {
      "text/plain": [
       "Text(0, 0.5, 'Mean Infant Mortality Rate')"
      ]
     },
     "execution_count": 11,
     "metadata": {},
     "output_type": "execute_result"
    },
    {
     "data": {
      "image/png": "[encoded data removed]",
      "text/plain": [
       "<Figure size 432x288 with 1 Axes>"
      ]
     },
     "metadata": {
      "needs_background": "light"
     },
     "output_type": "display_data"
    }
   ],
   "source": [
    "#this shows a graph of the mean infant mortality rate value for each geographic area\n",
    "ax = no_missing_values_df.groupby('Geographic Area')['Observation Value'].mean().plot(kind='bar', title='Infant Mortality Data')\n",
    "ax.set_xlabel('Geographic Area')\n",
    "ax.set_ylabel('Mean Infant Mortality Rate')"
   ]
  },
  {
   "cell_type": "code",
   "execution_count": 12,
   "metadata": {
    "scrolled": true
   },
   "outputs": [
    {
     "data": {
      "image/png": "[encoded data removed]",
      "text/plain": [
       "<Figure size 432x288 with 1 Axes>"
      ]
     },
     "metadata": {
      "needs_background": "light"
     },
     "output_type": "display_data"
    }
   ],
   "source": [
    "#here i attempted to see if a linear regression algorithim would work better over a time period, but it does not appear useful\n",
    "mort_df.plot(x='Time Period',y='Observation Value',style='o')\n",
    "plt.show()"
   ]
  },
  {
   "cell_type": "code",
   "execution_count": 13,
   "metadata": {},
   "outputs": [],
   "source": [
    "#a dummy dataframe must be made as the values in geographic area section are non numeric\n",
    "dummy_df = pd.get_dummies(no_missing_values_df['Geographic Area'])"
   ]
  },
  {
   "cell_type": "code",
   "execution_count": 14,
   "metadata": {},
   "outputs": [],
   "source": [
    "X = dummy_df"
   ]
  },
  {
   "cell_type": "code",
   "execution_count": 15,
   "metadata": {},
   "outputs": [],
   "source": [
    "y = no_missing_values_df['Observation Value'].values.reshape(-1,1)"
   ]
  },
  {
   "cell_type": "code",
   "execution_count": 16,
   "metadata": {},
   "outputs": [],
   "source": [
    "X_train, X_test, y_train, y_test = train_test_split(X,y,test_size=0.30, random_state=16)"
   ]
  },
  {
   "cell_type": "code",
   "execution_count": 17,
   "metadata": {},
   "outputs": [
    {
     "data": {
      "text/plain": [
       "(22659, 11)"
      ]
     },
     "execution_count": 17,
     "metadata": {},
     "output_type": "execute_result"
    }
   ],
   "source": [
    "X_train.shape"
   ]
  },
  {
   "cell_type": "code",
   "execution_count": 18,
   "metadata": {},
   "outputs": [
    {
     "data": {
      "text/plain": [
       "(9711, 11)"
      ]
     },
     "execution_count": 18,
     "metadata": {},
     "output_type": "execute_result"
    }
   ],
   "source": [
    "X_test.shape"
   ]
  },
  {
   "cell_type": "code",
   "execution_count": 19,
   "metadata": {},
   "outputs": [
    {
     "data": {
      "text/plain": [
       "LinearRegression(copy_X=True, fit_intercept=True, n_jobs=None, normalize=False)"
      ]
     },
     "execution_count": 19,
     "metadata": {},
     "output_type": "execute_result"
    }
   ],
   "source": [
    "regressor = LinearRegression()     # Create a scikit learn LinearRegression object\n",
    "regressor.fit(X_train, y_train)    # Use the fit method to train the model using the data separated for training"
   ]
  },
  {
   "cell_type": "code",
   "execution_count": 20,
   "metadata": {},
   "outputs": [],
   "source": [
    "#using the predicted y values to determine the accuracy by testing against the test x section\n",
    "y_pred = regressor.predict(X_test)"
   ]
  },
  {
   "cell_type": "code",
   "execution_count": 21,
   "metadata": {},
   "outputs": [
    {
     "data": {
      "text/plain": [
       "<bound method NDFrame.head of           Actual  Predicted\n",
       "0       8.661897  23.757812\n",
       "1      10.160981  23.757812\n",
       "2     172.177185  93.859375\n",
       "3      29.145273  42.101562\n",
       "4       5.493653  23.757812\n",
       "...          ...        ...\n",
       "9706   26.857424  39.984375\n",
       "9707    8.376086  49.515625\n",
       "9708   82.371363  11.632812\n",
       "9709   77.071458  93.859375\n",
       "9710   27.768038  65.320312\n",
       "\n",
       "[9711 rows x 2 columns]>"
      ]
     },
     "execution_count": 21,
     "metadata": {},
     "output_type": "execute_result"
    }
   ],
   "source": [
    "#combine the two 1D numpy arrays into a 2D array\n",
    "combined = np.hstack((y_test,y_pred))\n",
    "#Convert the numpy 2D array into a pandas dataframe\n",
    "accuracy_df = pd.DataFrame(combined,columns=['Actual','Predicted'])\n",
    "accuracy_df.head"
   ]
  },
  {
   "cell_type": "code",
   "execution_count": 22,
   "metadata": {},
   "outputs": [
    {
     "name": "stdout",
     "output_type": "stream",
     "text": [
      "Mean absolute error:  29.54704699859747\n"
     ]
    }
   ],
   "source": [
    "#The next three lines are to check the margin of error created by my project, this is explained in my debrief\n",
    "print('Mean absolute error: ',metrics.mean_absolute_error(y_test,y_pred))"
   ]
  },
  {
   "cell_type": "code",
   "execution_count": 23,
   "metadata": {},
   "outputs": [
    {
     "name": "stdout",
     "output_type": "stream",
     "text": [
      "Root Mean Squared Error: 39.68042531487791\n"
     ]
    }
   ],
   "source": [
    "print('Root Mean Squared Error:', np.sqrt(metrics.mean_squared_error(y_test,y_pred)))"
   ]
  },
  {
   "cell_type": "code",
   "execution_count": 24,
   "metadata": {},
   "outputs": [
    {
     "name": "stdout",
     "output_type": "stream",
     "text": [
      "[[4.11514744e+13 4.11514744e+13 4.11514744e+13 4.11514744e+13\n",
      "  4.11514744e+13 4.11514744e+13 4.11514744e+13 4.11514744e+13\n",
      "  4.11514744e+13 4.11514744e+13 4.11514744e+13]]\n",
      "Index(['Africa', 'Caribbean', 'Central America', 'East Asia', 'East Europe',\n",
      "       'Middle East', 'North America', 'Oceania', 'South America',\n",
      "       'South Asia', 'West Europe'],\n",
      "      dtype='object')\n"
     ]
    }
   ],
   "source": [
    "print(regressor.coef_)\n",
    "print(X_train.columns)"
   ]
  }
 ],
 "metadata": {
  "kernelspec": {
   "display_name": "Python 3",
   "language": "python",
   "name": "python3"
  },
  "language_info": {
   "codemirror_mode": {
    "name": "ipython",
    "version": 3
   },
   "file_extension": ".py",
   "mimetype": "text/x-python",
   "name": "python",
   "nbconvert_exporter": "python",
   "pygments_lexer": "ipython3",
   "version": "3.7.4"
  }
 },
 "nbformat": 4,
 "nbformat_minor": 2
}
