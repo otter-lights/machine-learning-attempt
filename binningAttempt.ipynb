{
 "cells": [
  {
   "cell_type": "code",
   "execution_count": 1,
   "metadata": {},
   "outputs": [],
   "source": [
    "import pandas as pd  \n",
    "import numpy as np\n",
    "from sklearn.model_selection import train_test_split\n",
    "from sklearn.linear_model import LinearRegression\n",
    "from sklearn import metrics\n",
    "import matplotlib.pyplot as plt"
   ]
  },
  {
   "cell_type": "code",
   "execution_count": 2,
   "metadata": {},
   "outputs": [
    {
     "data": {
      "text/plain": [
       "(32350, 2)"
      ]
     },
     "execution_count": 2,
     "metadata": {},
     "output_type": "execute_result"
    }
   ],
   "source": [
    "#the original dataframe made by reading from my text file\n",
    "mortOri_df=pd.read_csv('C://Users//Rachel//Downloads//example.csv') # Read csv file into flight_df dataframe\n",
    "#modified text file containing only the observation value of geographic area columns\n",
    "mort_df = mortOri_df.groupby(['Observation Value'])['Geographic Area'].sum().reset_index()\n",
    "mort_df.shape                          # Display shape of array to see how many rows and columns are in the dataframe"
   ]
  },
  {
   "cell_type": "code",
   "execution_count": 3,
   "metadata": {},
   "outputs": [
    {
     "data": {
      "text/plain": [
       "0           (0.953, 16.058]\n",
       "1           (0.953, 16.058]\n",
       "2           (0.953, 16.058]\n",
       "3           (0.953, 16.058]\n",
       "4           (0.953, 16.058]\n",
       "                ...        \n",
       "32345    (267.809, 282.618]\n",
       "32346    (282.618, 297.427]\n",
       "32347    (282.618, 297.427]\n",
       "32348    (282.618, 297.427]\n",
       "32349    (282.618, 297.427]\n",
       "Name: Observation Value, Length: 32350, dtype: category\n",
       "Categories (20, interval[float64]): [(0.953, 16.058] < (16.058, 30.867] < (30.867, 45.676] < (45.676, 60.485] ... (238.191, 253.0] < (253.0, 267.809] < (267.809, 282.618] < (282.618, 297.427]]"
      ]
     },
     "execution_count": 3,
     "metadata": {},
     "output_type": "execute_result"
    }
   ],
   "source": [
    "#this is a cut of the observation value data into 20 undefined bins \n",
    "pd.cut(mort_df['Observation Value'], bins=20)"
   ]
  },
  {
   "cell_type": "code",
   "execution_count": 4,
   "metadata": {},
   "outputs": [
    {
     "data": {
      "text/plain": [
       "(0.953, 16.058]       8444\n",
       "(16.058, 30.867]      5694\n",
       "(30.867, 45.676]      3512\n",
       "(45.676, 60.485]      3130\n",
       "(60.485, 75.294]      2391\n",
       "(75.294, 90.102]      1924\n",
       "(90.102, 104.911]     1692\n",
       "(104.911, 119.72]     1501\n",
       "(119.72, 134.529]     1251\n",
       "(134.529, 149.338]     995\n",
       "(149.338, 164.147]     655\n",
       "(164.147, 178.956]     437\n",
       "(178.956, 193.765]     305\n",
       "(193.765, 208.574]     179\n",
       "(208.574, 223.382]     126\n",
       "(223.382, 238.191]      70\n",
       "(238.191, 253.0]        21\n",
       "(253.0, 267.809]        11\n",
       "(267.809, 282.618]       8\n",
       "(282.618, 297.427]       4\n",
       "Name: Observation Value, dtype: int64"
      ]
     },
     "execution_count": 4,
     "metadata": {},
     "output_type": "execute_result"
    }
   ],
   "source": [
    "#this is the number of values in each of the bins, they are unequal as a used .cut rather than .qcut which better suits this data\n",
    "pd.cut(mort_df['Observation Value'], bins=20).value_counts()"
   ]
  },
  {
   "cell_type": "code",
   "execution_count": 7,
   "metadata": {},
   "outputs": [
    {
     "data": {
      "text/plain": [
       "0-20       10327\n",
       "20-40       6009\n",
       "40-60       4349\n",
       "60-80       3178\n",
       "80-100      2374\n",
       "100-120     2084\n",
       "120-140     1617\n",
       "140-160     1108\n",
       "160-180      599\n",
       "180-200      370\n",
       "200-220      203\n",
       "220-240       91\n",
       "240-260       24\n",
       "260-280       12\n",
       "280-300        5\n",
       "Name: Observation Value, dtype: int64"
      ]
     },
     "execution_count": 7,
     "metadata": {},
     "output_type": "execute_result"
    }
   ],
   "source": [
    "#defining labels and hard caps for each bin, separating the data into groups of 20 and counting the numbers in each section\n",
    "cut_labels = ['0-20', '20-40', '40-60', '60-80', '80-100', '100-120', '120-140', '140-160', '160-180', '180-200', '200-220', '220-240', '240-260', '260-280', '280-300']\n",
    "cut_bins = [0, 20, 40, 60, 80, 100, 120, 140, 160, 180, 200, 220, 240, 260, 280, 300]\n",
    "pd.cut(mort_df['Observation Value'], bins=cut_bins, labels=cut_labels).value_counts()"
   ]
  },
  {
   "cell_type": "code",
   "execution_count": 8,
   "metadata": {},
   "outputs": [],
   "source": [
    "#the values are different in this binning than the first as the first option definied its own boundaries, whereas i\n",
    "#i specified the exact needed boundaries in the second iteration"
   ]
  }
 ],
 "metadata": {
  "kernelspec": {
   "display_name": "Python 3",
   "language": "python",
   "name": "python3"
  },
  "language_info": {
   "codemirror_mode": {
    "name": "ipython",
    "version": 3
   },
   "file_extension": ".py",
   "mimetype": "text/x-python",
   "name": "python",
   "nbconvert_exporter": "python",
   "pygments_lexer": "ipython3",
   "version": "3.7.4"
  }
 },
 "nbformat": 4,
 "nbformat_minor": 2
}
